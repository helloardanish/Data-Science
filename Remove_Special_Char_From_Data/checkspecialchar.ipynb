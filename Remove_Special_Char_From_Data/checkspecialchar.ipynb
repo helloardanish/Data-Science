{
  "nbformat": 4,
  "nbformat_minor": 0,
  "metadata": {
    "colab": {
      "name": "checkspecialchar.ipynb",
      "provenance": []
    },
    "kernelspec": {
      "name": "python3",
      "display_name": "Python 3"
    },
    "language_info": {
      "name": "python"
    }
  },
  "cells": [
    {
      "cell_type": "code",
      "execution_count": 1,
      "metadata": {
        "id": "mKvipQ94cm9F"
      },
      "outputs": [],
      "source": [
        "import numpy as np\n",
        "import pandas as pd"
      ]
    },
    {
      "cell_type": "code",
      "source": [
        "file = 'samplespecialchar.xlsx'"
      ],
      "metadata": {
        "id": "K5NUzxC-c4X8"
      },
      "execution_count": 2,
      "outputs": []
    },
    {
      "cell_type": "code",
      "source": [
        "my_data = pd.read_excel(file)"
      ],
      "metadata": {
        "id": "i4ZwcA6cdM8P"
      },
      "execution_count": 4,
      "outputs": []
    },
    {
      "cell_type": "code",
      "source": [
        "print(my_data.head(2))"
      ],
      "metadata": {
        "colab": {
          "base_uri": "https://localhost:8080/"
        },
        "id": "qAnZ3cWfdUG8",
        "outputId": "a40c6fee-07b3-452c-8b87-12f13f3e2dab"
      },
      "execution_count": 6,
      "outputs": [
        {
          "output_type": "stream",
          "name": "stdout",
          "text": [
            "             Name            City      State          Phone\n",
            "0  A R D%$@#anish  Da*r$-b&ha@nga    Bih%$ar   1234$%567890\n",
            "1   A R Ra$@#shid  Mad*$h-ub&a@ni  $@Bih%$ar  424%4$%567891\n"
          ]
        }
      ]
    },
    {
      "cell_type": "code",
      "source": [
        "for column in my_data.columns:\n",
        "  print(column)\n",
        "  print(my_data[column])\n",
        "  #df[column] = df[s]"
      ],
      "metadata": {
        "colab": {
          "base_uri": "https://localhost:8080/"
        },
        "id": "UtRa2Azcdd1u",
        "outputId": "07fa7600-ee8f-4401-ea6a-334e7de9cc6d"
      },
      "execution_count": 10,
      "outputs": [
        {
          "output_type": "stream",
          "name": "stdout",
          "text": [
            "Name\n",
            "0    A R D%$@#anish\n",
            "1     A R Ra$@#shid\n",
            "2      Sonu Kh%$@an\n",
            "3       Qama$r%@# J\n",
            "4         Ka$#vya%$\n",
            "Name: Name, dtype: object\n",
            "City\n",
            "0    Da*r$-b&ha@nga\n",
            "1    Mad*$h-ub&a@ni\n",
            "2        Pat*$t&na@\n",
            "3         G*a-&y$a@\n",
            "4    Gha*z$ia-b&@ad\n",
            "Name: City, dtype: object\n",
            "State\n",
            "0       Bih%$ar\n",
            "1     $@Bih%$ar\n",
            "2      %Bih%$ar\n",
            "3       %Bih$ar\n",
            "4    #@*Bih%$ar\n",
            "Name: State, dtype: object\n",
            "Phone\n",
            "0       1234$%567890\n",
            "1      424%4$%567891\n",
            "2     5#@434$%567892\n",
            "3     1&*234$%567893\n",
            "4    123*&4$%56#7894\n",
            "Name: Phone, dtype: object\n"
          ]
        }
      ]
    },
    {
      "cell_type": "code",
      "source": [
        "for index, row in my_data.iterrows():\n",
        "  print(index, row)"
      ],
      "metadata": {
        "colab": {
          "base_uri": "https://localhost:8080/"
        },
        "id": "YfoG-zxbeW8G",
        "outputId": "f9557ca1-2904-4f81-ae7e-41f5e4f169a5"
      },
      "execution_count": 11,
      "outputs": [
        {
          "output_type": "stream",
          "name": "stdout",
          "text": [
            "0 Name     A R D%$@#anish\n",
            "City     Da*r$-b&ha@nga\n",
            "State           Bih%$ar\n",
            "Phone      1234$%567890\n",
            "Name: 0, dtype: object\n",
            "1 Name      A R Ra$@#shid\n",
            "City     Mad*$h-ub&a@ni\n",
            "State         $@Bih%$ar\n",
            "Phone     424%4$%567891\n",
            "Name: 1, dtype: object\n",
            "2 Name       Sonu Kh%$@an\n",
            "City         Pat*$t&na@\n",
            "State          %Bih%$ar\n",
            "Phone    5#@434$%567892\n",
            "Name: 2, dtype: object\n",
            "3 Name        Qama$r%@# J\n",
            "City          G*a-&y$a@\n",
            "State           %Bih$ar\n",
            "Phone    1&*234$%567893\n",
            "Name: 3, dtype: object\n",
            "4 Name           Ka$#vya%$\n",
            "City      Gha*z$ia-b&@ad\n",
            "State         #@*Bih%$ar\n",
            "Phone    123*&4$%56#7894\n",
            "Name: 4, dtype: object\n"
          ]
        }
      ]
    },
    {
      "cell_type": "code",
      "source": [
        "print(my_data.shape)"
      ],
      "metadata": {
        "colab": {
          "base_uri": "https://localhost:8080/"
        },
        "id": "VaoVJ5NkduhC",
        "outputId": "6cd9d124-e8e8-46b7-f9af-565e8c008698"
      },
      "execution_count": 9,
      "outputs": [
        {
          "output_type": "stream",
          "name": "stdout",
          "text": [
            "(5, 4)\n"
          ]
        }
      ]
    },
    {
      "cell_type": "code",
      "source": [
        "my_columns = my_data.columns.tolist()\n",
        "print(my_columns)"
      ],
      "metadata": {
        "colab": {
          "base_uri": "https://localhost:8080/"
        },
        "id": "6Jkqi50ognow",
        "outputId": "cffbf6c6-4129-4657-981c-28bf79791617"
      },
      "execution_count": 13,
      "outputs": [
        {
          "output_type": "stream",
          "name": "stdout",
          "text": [
            "['Name', 'City', 'State', 'Phone']\n"
          ]
        }
      ]
    },
    {
      "cell_type": "code",
      "source": [
        "\n",
        "for index, row in my_data.iterrows():\n",
        "  for col in my_columns:\n",
        "    celldata = row[col]\n",
        "    print(celldata, end='\\n\\n')\n"
      ],
      "metadata": {
        "colab": {
          "base_uri": "https://localhost:8080/"
        },
        "id": "SkwGpneIeLL-",
        "outputId": "51b28612-fb17-46cf-fff7-6041227cd0e1"
      },
      "execution_count": 16,
      "outputs": [
        {
          "output_type": "stream",
          "name": "stdout",
          "text": [
            "A R D%$@#anish\n",
            "\n",
            "Da*r$-b&ha@nga\n",
            "\n",
            "Bih%$ar\n",
            "\n",
            "1234$%567890\n",
            "\n",
            "A R Ra$@#shid\n",
            "\n",
            "Mad*$h-ub&a@ni\n",
            "\n",
            "$@Bih%$ar\n",
            "\n",
            "424%4$%567891\n",
            "\n",
            "Sonu Kh%$@an\n",
            "\n",
            "Pat*$t&na@\n",
            "\n",
            "%Bih%$ar\n",
            "\n",
            "5#@434$%567892\n",
            "\n",
            "Qama$r%@# J\n",
            "\n",
            "G*a-&y$a@\n",
            "\n",
            "%Bih$ar\n",
            "\n",
            "1&*234$%567893\n",
            "\n",
            "Ka$#vya%$\n",
            "\n",
            "Gha*z$ia-b&@ad\n",
            "\n",
            "#@*Bih%$ar\n",
            "\n",
            "123*&4$%56#7894\n",
            "\n"
          ]
        }
      ]
    },
    {
      "cell_type": "code",
      "source": [
        "#orgspecialcharlst = ['&', '#', '*', ';', '\\'', '?', '\"','%', '{', '}', '<', '>', '\\\\', '/', '|', '^', '~', '[', ']']\n",
        "newspecialcharlst = ['$', '-', '@', '&', '#', '*', ';', '\\'', '?', '\"','%', '{', '}', '<', '>', '\\\\', '/', '|', '^', '~', '[', ']']\n",
        "#for spcchar in specialcharlst:\n",
        "#  print(spcchar, end =\" == \\n\")\n",
        "my_columns = my_data.columns.tolist()\n",
        "for index, row in my_data.iterrows():\n",
        "  for col in my_columns:\n",
        "    temp=\"\"\n",
        "    celldata = row[col]\n",
        "    for char in celldata:\n",
        "      if char in newspecialcharlst:\n",
        "        continue\n",
        "      else:\n",
        "        temp+=char\n",
        "    celldata=temp\n",
        "    print(celldata, end='\\n\\n')\n"
      ],
      "metadata": {
        "colab": {
          "base_uri": "https://localhost:8080/"
        },
        "id": "ws4-Rm3IhoXs",
        "outputId": "d3fa0c1e-e6d6-4e16-84eb-6aeaac15bdef"
      },
      "execution_count": 21,
      "outputs": [
        {
          "output_type": "stream",
          "name": "stdout",
          "text": [
            "A R Danish\n",
            "\n",
            "Darbhanga\n",
            "\n",
            "Bihar\n",
            "\n",
            "1234567890\n",
            "\n",
            "A R Rashid\n",
            "\n",
            "Madhubani\n",
            "\n",
            "Bihar\n",
            "\n",
            "4244567891\n",
            "\n",
            "Sonu Khan\n",
            "\n",
            "Pattna\n",
            "\n",
            "Bihar\n",
            "\n",
            "5434567892\n",
            "\n",
            "Qamar J\n",
            "\n",
            "Gaya\n",
            "\n",
            "Bihar\n",
            "\n",
            "1234567893\n",
            "\n",
            "Kavya\n",
            "\n",
            "Ghaziabad\n",
            "\n",
            "Bihar\n",
            "\n",
            "1234567894\n",
            "\n"
          ]
        }
      ]
    },
    {
      "cell_type": "code",
      "source": [
        "my_data.head(2)"
      ],
      "metadata": {
        "colab": {
          "base_uri": "https://localhost:8080/",
          "height": 112
        },
        "id": "hBo8kwQchaK6",
        "outputId": "cd08424e-a91d-470a-a1b9-73a026c49487"
      },
      "execution_count": 22,
      "outputs": [
        {
          "output_type": "execute_result",
          "data": {
            "text/html": [
              "\n",
              "  <div id=\"df-f161b1e5-91ff-4505-b160-69a847680926\">\n",
              "    <div class=\"colab-df-container\">\n",
              "      <div>\n",
              "<style scoped>\n",
              "    .dataframe tbody tr th:only-of-type {\n",
              "        vertical-align: middle;\n",
              "    }\n",
              "\n",
              "    .dataframe tbody tr th {\n",
              "        vertical-align: top;\n",
              "    }\n",
              "\n",
              "    .dataframe thead th {\n",
              "        text-align: right;\n",
              "    }\n",
              "</style>\n",
              "<table border=\"1\" class=\"dataframe\">\n",
              "  <thead>\n",
              "    <tr style=\"text-align: right;\">\n",
              "      <th></th>\n",
              "      <th>Name</th>\n",
              "      <th>City</th>\n",
              "      <th>State</th>\n",
              "      <th>Phone</th>\n",
              "    </tr>\n",
              "  </thead>\n",
              "  <tbody>\n",
              "    <tr>\n",
              "      <th>0</th>\n",
              "      <td>A R D%$@#anish</td>\n",
              "      <td>Da*r$-b&amp;ha@nga</td>\n",
              "      <td>Bih%$ar</td>\n",
              "      <td>1234$%567890</td>\n",
              "    </tr>\n",
              "    <tr>\n",
              "      <th>1</th>\n",
              "      <td>A R Ra$@#shid</td>\n",
              "      <td>Mad*$h-ub&amp;a@ni</td>\n",
              "      <td>$@Bih%$ar</td>\n",
              "      <td>424%4$%567891</td>\n",
              "    </tr>\n",
              "  </tbody>\n",
              "</table>\n",
              "</div>\n",
              "      <button class=\"colab-df-convert\" onclick=\"convertToInteractive('df-f161b1e5-91ff-4505-b160-69a847680926')\"\n",
              "              title=\"Convert this dataframe to an interactive table.\"\n",
              "              style=\"display:none;\">\n",
              "        \n",
              "  <svg xmlns=\"http://www.w3.org/2000/svg\" height=\"24px\"viewBox=\"0 0 24 24\"\n",
              "       width=\"24px\">\n",
              "    <path d=\"M0 0h24v24H0V0z\" fill=\"none\"/>\n",
              "    <path d=\"M18.56 5.44l.94 2.06.94-2.06 2.06-.94-2.06-.94-.94-2.06-.94 2.06-2.06.94zm-11 1L8.5 8.5l.94-2.06 2.06-.94-2.06-.94L8.5 2.5l-.94 2.06-2.06.94zm10 10l.94 2.06.94-2.06 2.06-.94-2.06-.94-.94-2.06-.94 2.06-2.06.94z\"/><path d=\"M17.41 7.96l-1.37-1.37c-.4-.4-.92-.59-1.43-.59-.52 0-1.04.2-1.43.59L10.3 9.45l-7.72 7.72c-.78.78-.78 2.05 0 2.83L4 21.41c.39.39.9.59 1.41.59.51 0 1.02-.2 1.41-.59l7.78-7.78 2.81-2.81c.8-.78.8-2.07 0-2.86zM5.41 20L4 18.59l7.72-7.72 1.47 1.35L5.41 20z\"/>\n",
              "  </svg>\n",
              "      </button>\n",
              "      \n",
              "  <style>\n",
              "    .colab-df-container {\n",
              "      display:flex;\n",
              "      flex-wrap:wrap;\n",
              "      gap: 12px;\n",
              "    }\n",
              "\n",
              "    .colab-df-convert {\n",
              "      background-color: #E8F0FE;\n",
              "      border: none;\n",
              "      border-radius: 50%;\n",
              "      cursor: pointer;\n",
              "      display: none;\n",
              "      fill: #1967D2;\n",
              "      height: 32px;\n",
              "      padding: 0 0 0 0;\n",
              "      width: 32px;\n",
              "    }\n",
              "\n",
              "    .colab-df-convert:hover {\n",
              "      background-color: #E2EBFA;\n",
              "      box-shadow: 0px 1px 2px rgba(60, 64, 67, 0.3), 0px 1px 3px 1px rgba(60, 64, 67, 0.15);\n",
              "      fill: #174EA6;\n",
              "    }\n",
              "\n",
              "    [theme=dark] .colab-df-convert {\n",
              "      background-color: #3B4455;\n",
              "      fill: #D2E3FC;\n",
              "    }\n",
              "\n",
              "    [theme=dark] .colab-df-convert:hover {\n",
              "      background-color: #434B5C;\n",
              "      box-shadow: 0px 1px 3px 1px rgba(0, 0, 0, 0.15);\n",
              "      filter: drop-shadow(0px 1px 2px rgba(0, 0, 0, 0.3));\n",
              "      fill: #FFFFFF;\n",
              "    }\n",
              "  </style>\n",
              "\n",
              "      <script>\n",
              "        const buttonEl =\n",
              "          document.querySelector('#df-f161b1e5-91ff-4505-b160-69a847680926 button.colab-df-convert');\n",
              "        buttonEl.style.display =\n",
              "          google.colab.kernel.accessAllowed ? 'block' : 'none';\n",
              "\n",
              "        async function convertToInteractive(key) {\n",
              "          const element = document.querySelector('#df-f161b1e5-91ff-4505-b160-69a847680926');\n",
              "          const dataTable =\n",
              "            await google.colab.kernel.invokeFunction('convertToInteractive',\n",
              "                                                     [key], {});\n",
              "          if (!dataTable) return;\n",
              "\n",
              "          const docLinkHtml = 'Like what you see? Visit the ' +\n",
              "            '<a target=\"_blank\" href=https://colab.research.google.com/notebooks/data_table.ipynb>data table notebook</a>'\n",
              "            + ' to learn more about interactive tables.';\n",
              "          element.innerHTML = '';\n",
              "          dataTable['output_type'] = 'display_data';\n",
              "          await google.colab.output.renderOutput(dataTable, element);\n",
              "          const docLink = document.createElement('div');\n",
              "          docLink.innerHTML = docLinkHtml;\n",
              "          element.appendChild(docLink);\n",
              "        }\n",
              "      </script>\n",
              "    </div>\n",
              "  </div>\n",
              "  "
            ],
            "text/plain": [
              "             Name            City      State          Phone\n",
              "0  A R D%$@#anish  Da*r$-b&ha@nga    Bih%$ar   1234$%567890\n",
              "1   A R Ra$@#shid  Mad*$h-ub&a@ni  $@Bih%$ar  424%4$%567891"
            ]
          },
          "metadata": {},
          "execution_count": 22
        }
      ]
    },
    {
      "cell_type": "code",
      "source": [
        "#orgspecialcharlst = ['&', '#', '*', ';', '\\'', '?', '\"','%', '{', '}', '<', '>', '\\\\', '/', '|', '^', '~', '[', ']']\n",
        "newspecialcharlst = ['$', '-', '@', '&', '#', '*', ';', '\\'', '?', '\"','%', '{', '}', '<', '>', '\\\\', '/', '|', '^', '~', '[', ']']\n",
        "#for spcchar in specialcharlst:\n",
        "#  print(spcchar, end =\" == \\n\")\n",
        "my_columns = my_data.columns.tolist()\n",
        "for index, row in my_data.iterrows():\n",
        "  for col in my_columns:\n",
        "    temp=\"\"\n",
        "    celldata = row[col]\n",
        "    for char in celldata:\n",
        "      if char in newspecialcharlst:\n",
        "        continue\n",
        "      else:\n",
        "        temp+=char\n",
        "    row[col]=temp\n",
        "    print(temp, end='\\n\\n')\n"
      ],
      "metadata": {
        "colab": {
          "base_uri": "https://localhost:8080/"
        },
        "id": "lO6KDjARkT_2",
        "outputId": "88f72a8d-7417-471a-81ab-8f902f55c00f"
      },
      "execution_count": 23,
      "outputs": [
        {
          "output_type": "stream",
          "name": "stdout",
          "text": [
            "A R Danish\n",
            "\n",
            "Darbhanga\n",
            "\n",
            "Bihar\n",
            "\n",
            "1234567890\n",
            "\n",
            "A R Rashid\n",
            "\n",
            "Madhubani\n",
            "\n",
            "Bihar\n",
            "\n",
            "4244567891\n",
            "\n",
            "Sonu Khan\n",
            "\n",
            "Pattna\n",
            "\n",
            "Bihar\n",
            "\n",
            "5434567892\n",
            "\n",
            "Qamar J\n",
            "\n",
            "Gaya\n",
            "\n",
            "Bihar\n",
            "\n",
            "1234567893\n",
            "\n",
            "Kavya\n",
            "\n",
            "Ghaziabad\n",
            "\n",
            "Bihar\n",
            "\n",
            "1234567894\n",
            "\n"
          ]
        }
      ]
    },
    {
      "cell_type": "code",
      "source": [
        "my_data.head(2)"
      ],
      "metadata": {
        "colab": {
          "base_uri": "https://localhost:8080/",
          "height": 112
        },
        "id": "FokKWjDTkhTd",
        "outputId": "9e32ff87-6fab-4f01-9e5e-7a3ba36f93ad"
      },
      "execution_count": 24,
      "outputs": [
        {
          "output_type": "execute_result",
          "data": {
            "text/html": [
              "\n",
              "  <div id=\"df-ae40985e-6ad1-4463-bf3b-532ec1f4f706\">\n",
              "    <div class=\"colab-df-container\">\n",
              "      <div>\n",
              "<style scoped>\n",
              "    .dataframe tbody tr th:only-of-type {\n",
              "        vertical-align: middle;\n",
              "    }\n",
              "\n",
              "    .dataframe tbody tr th {\n",
              "        vertical-align: top;\n",
              "    }\n",
              "\n",
              "    .dataframe thead th {\n",
              "        text-align: right;\n",
              "    }\n",
              "</style>\n",
              "<table border=\"1\" class=\"dataframe\">\n",
              "  <thead>\n",
              "    <tr style=\"text-align: right;\">\n",
              "      <th></th>\n",
              "      <th>Name</th>\n",
              "      <th>City</th>\n",
              "      <th>State</th>\n",
              "      <th>Phone</th>\n",
              "    </tr>\n",
              "  </thead>\n",
              "  <tbody>\n",
              "    <tr>\n",
              "      <th>0</th>\n",
              "      <td>A R Danish</td>\n",
              "      <td>Darbhanga</td>\n",
              "      <td>Bihar</td>\n",
              "      <td>1234567890</td>\n",
              "    </tr>\n",
              "    <tr>\n",
              "      <th>1</th>\n",
              "      <td>A R Rashid</td>\n",
              "      <td>Madhubani</td>\n",
              "      <td>Bihar</td>\n",
              "      <td>4244567891</td>\n",
              "    </tr>\n",
              "  </tbody>\n",
              "</table>\n",
              "</div>\n",
              "      <button class=\"colab-df-convert\" onclick=\"convertToInteractive('df-ae40985e-6ad1-4463-bf3b-532ec1f4f706')\"\n",
              "              title=\"Convert this dataframe to an interactive table.\"\n",
              "              style=\"display:none;\">\n",
              "        \n",
              "  <svg xmlns=\"http://www.w3.org/2000/svg\" height=\"24px\"viewBox=\"0 0 24 24\"\n",
              "       width=\"24px\">\n",
              "    <path d=\"M0 0h24v24H0V0z\" fill=\"none\"/>\n",
              "    <path d=\"M18.56 5.44l.94 2.06.94-2.06 2.06-.94-2.06-.94-.94-2.06-.94 2.06-2.06.94zm-11 1L8.5 8.5l.94-2.06 2.06-.94-2.06-.94L8.5 2.5l-.94 2.06-2.06.94zm10 10l.94 2.06.94-2.06 2.06-.94-2.06-.94-.94-2.06-.94 2.06-2.06.94z\"/><path d=\"M17.41 7.96l-1.37-1.37c-.4-.4-.92-.59-1.43-.59-.52 0-1.04.2-1.43.59L10.3 9.45l-7.72 7.72c-.78.78-.78 2.05 0 2.83L4 21.41c.39.39.9.59 1.41.59.51 0 1.02-.2 1.41-.59l7.78-7.78 2.81-2.81c.8-.78.8-2.07 0-2.86zM5.41 20L4 18.59l7.72-7.72 1.47 1.35L5.41 20z\"/>\n",
              "  </svg>\n",
              "      </button>\n",
              "      \n",
              "  <style>\n",
              "    .colab-df-container {\n",
              "      display:flex;\n",
              "      flex-wrap:wrap;\n",
              "      gap: 12px;\n",
              "    }\n",
              "\n",
              "    .colab-df-convert {\n",
              "      background-color: #E8F0FE;\n",
              "      border: none;\n",
              "      border-radius: 50%;\n",
              "      cursor: pointer;\n",
              "      display: none;\n",
              "      fill: #1967D2;\n",
              "      height: 32px;\n",
              "      padding: 0 0 0 0;\n",
              "      width: 32px;\n",
              "    }\n",
              "\n",
              "    .colab-df-convert:hover {\n",
              "      background-color: #E2EBFA;\n",
              "      box-shadow: 0px 1px 2px rgba(60, 64, 67, 0.3), 0px 1px 3px 1px rgba(60, 64, 67, 0.15);\n",
              "      fill: #174EA6;\n",
              "    }\n",
              "\n",
              "    [theme=dark] .colab-df-convert {\n",
              "      background-color: #3B4455;\n",
              "      fill: #D2E3FC;\n",
              "    }\n",
              "\n",
              "    [theme=dark] .colab-df-convert:hover {\n",
              "      background-color: #434B5C;\n",
              "      box-shadow: 0px 1px 3px 1px rgba(0, 0, 0, 0.15);\n",
              "      filter: drop-shadow(0px 1px 2px rgba(0, 0, 0, 0.3));\n",
              "      fill: #FFFFFF;\n",
              "    }\n",
              "  </style>\n",
              "\n",
              "      <script>\n",
              "        const buttonEl =\n",
              "          document.querySelector('#df-ae40985e-6ad1-4463-bf3b-532ec1f4f706 button.colab-df-convert');\n",
              "        buttonEl.style.display =\n",
              "          google.colab.kernel.accessAllowed ? 'block' : 'none';\n",
              "\n",
              "        async function convertToInteractive(key) {\n",
              "          const element = document.querySelector('#df-ae40985e-6ad1-4463-bf3b-532ec1f4f706');\n",
              "          const dataTable =\n",
              "            await google.colab.kernel.invokeFunction('convertToInteractive',\n",
              "                                                     [key], {});\n",
              "          if (!dataTable) return;\n",
              "\n",
              "          const docLinkHtml = 'Like what you see? Visit the ' +\n",
              "            '<a target=\"_blank\" href=https://colab.research.google.com/notebooks/data_table.ipynb>data table notebook</a>'\n",
              "            + ' to learn more about interactive tables.';\n",
              "          element.innerHTML = '';\n",
              "          dataTable['output_type'] = 'display_data';\n",
              "          await google.colab.output.renderOutput(dataTable, element);\n",
              "          const docLink = document.createElement('div');\n",
              "          docLink.innerHTML = docLinkHtml;\n",
              "          element.appendChild(docLink);\n",
              "        }\n",
              "      </script>\n",
              "    </div>\n",
              "  </div>\n",
              "  "
            ],
            "text/plain": [
              "         Name       City  State       Phone\n",
              "0  A R Danish  Darbhanga  Bihar  1234567890\n",
              "1  A R Rashid  Madhubani  Bihar  4244567891"
            ]
          },
          "metadata": {},
          "execution_count": 24
        }
      ]
    },
    {
      "cell_type": "code",
      "source": [
        "my_data"
      ],
      "metadata": {
        "colab": {
          "base_uri": "https://localhost:8080/",
          "height": 206
        },
        "id": "APDanmzukkvD",
        "outputId": "0c5af798-6c3b-46c5-98e2-2c0e113da661"
      },
      "execution_count": 25,
      "outputs": [
        {
          "output_type": "execute_result",
          "data": {
            "text/html": [
              "\n",
              "  <div id=\"df-aed3f031-c3ed-4c38-b632-35d114d23890\">\n",
              "    <div class=\"colab-df-container\">\n",
              "      <div>\n",
              "<style scoped>\n",
              "    .dataframe tbody tr th:only-of-type {\n",
              "        vertical-align: middle;\n",
              "    }\n",
              "\n",
              "    .dataframe tbody tr th {\n",
              "        vertical-align: top;\n",
              "    }\n",
              "\n",
              "    .dataframe thead th {\n",
              "        text-align: right;\n",
              "    }\n",
              "</style>\n",
              "<table border=\"1\" class=\"dataframe\">\n",
              "  <thead>\n",
              "    <tr style=\"text-align: right;\">\n",
              "      <th></th>\n",
              "      <th>Name</th>\n",
              "      <th>City</th>\n",
              "      <th>State</th>\n",
              "      <th>Phone</th>\n",
              "    </tr>\n",
              "  </thead>\n",
              "  <tbody>\n",
              "    <tr>\n",
              "      <th>0</th>\n",
              "      <td>A R Danish</td>\n",
              "      <td>Darbhanga</td>\n",
              "      <td>Bihar</td>\n",
              "      <td>1234567890</td>\n",
              "    </tr>\n",
              "    <tr>\n",
              "      <th>1</th>\n",
              "      <td>A R Rashid</td>\n",
              "      <td>Madhubani</td>\n",
              "      <td>Bihar</td>\n",
              "      <td>4244567891</td>\n",
              "    </tr>\n",
              "    <tr>\n",
              "      <th>2</th>\n",
              "      <td>Sonu Khan</td>\n",
              "      <td>Pattna</td>\n",
              "      <td>Bihar</td>\n",
              "      <td>5434567892</td>\n",
              "    </tr>\n",
              "    <tr>\n",
              "      <th>3</th>\n",
              "      <td>Qamar J</td>\n",
              "      <td>Gaya</td>\n",
              "      <td>Bihar</td>\n",
              "      <td>1234567893</td>\n",
              "    </tr>\n",
              "    <tr>\n",
              "      <th>4</th>\n",
              "      <td>Kavya</td>\n",
              "      <td>Ghaziabad</td>\n",
              "      <td>Bihar</td>\n",
              "      <td>1234567894</td>\n",
              "    </tr>\n",
              "  </tbody>\n",
              "</table>\n",
              "</div>\n",
              "      <button class=\"colab-df-convert\" onclick=\"convertToInteractive('df-aed3f031-c3ed-4c38-b632-35d114d23890')\"\n",
              "              title=\"Convert this dataframe to an interactive table.\"\n",
              "              style=\"display:none;\">\n",
              "        \n",
              "  <svg xmlns=\"http://www.w3.org/2000/svg\" height=\"24px\"viewBox=\"0 0 24 24\"\n",
              "       width=\"24px\">\n",
              "    <path d=\"M0 0h24v24H0V0z\" fill=\"none\"/>\n",
              "    <path d=\"M18.56 5.44l.94 2.06.94-2.06 2.06-.94-2.06-.94-.94-2.06-.94 2.06-2.06.94zm-11 1L8.5 8.5l.94-2.06 2.06-.94-2.06-.94L8.5 2.5l-.94 2.06-2.06.94zm10 10l.94 2.06.94-2.06 2.06-.94-2.06-.94-.94-2.06-.94 2.06-2.06.94z\"/><path d=\"M17.41 7.96l-1.37-1.37c-.4-.4-.92-.59-1.43-.59-.52 0-1.04.2-1.43.59L10.3 9.45l-7.72 7.72c-.78.78-.78 2.05 0 2.83L4 21.41c.39.39.9.59 1.41.59.51 0 1.02-.2 1.41-.59l7.78-7.78 2.81-2.81c.8-.78.8-2.07 0-2.86zM5.41 20L4 18.59l7.72-7.72 1.47 1.35L5.41 20z\"/>\n",
              "  </svg>\n",
              "      </button>\n",
              "      \n",
              "  <style>\n",
              "    .colab-df-container {\n",
              "      display:flex;\n",
              "      flex-wrap:wrap;\n",
              "      gap: 12px;\n",
              "    }\n",
              "\n",
              "    .colab-df-convert {\n",
              "      background-color: #E8F0FE;\n",
              "      border: none;\n",
              "      border-radius: 50%;\n",
              "      cursor: pointer;\n",
              "      display: none;\n",
              "      fill: #1967D2;\n",
              "      height: 32px;\n",
              "      padding: 0 0 0 0;\n",
              "      width: 32px;\n",
              "    }\n",
              "\n",
              "    .colab-df-convert:hover {\n",
              "      background-color: #E2EBFA;\n",
              "      box-shadow: 0px 1px 2px rgba(60, 64, 67, 0.3), 0px 1px 3px 1px rgba(60, 64, 67, 0.15);\n",
              "      fill: #174EA6;\n",
              "    }\n",
              "\n",
              "    [theme=dark] .colab-df-convert {\n",
              "      background-color: #3B4455;\n",
              "      fill: #D2E3FC;\n",
              "    }\n",
              "\n",
              "    [theme=dark] .colab-df-convert:hover {\n",
              "      background-color: #434B5C;\n",
              "      box-shadow: 0px 1px 3px 1px rgba(0, 0, 0, 0.15);\n",
              "      filter: drop-shadow(0px 1px 2px rgba(0, 0, 0, 0.3));\n",
              "      fill: #FFFFFF;\n",
              "    }\n",
              "  </style>\n",
              "\n",
              "      <script>\n",
              "        const buttonEl =\n",
              "          document.querySelector('#df-aed3f031-c3ed-4c38-b632-35d114d23890 button.colab-df-convert');\n",
              "        buttonEl.style.display =\n",
              "          google.colab.kernel.accessAllowed ? 'block' : 'none';\n",
              "\n",
              "        async function convertToInteractive(key) {\n",
              "          const element = document.querySelector('#df-aed3f031-c3ed-4c38-b632-35d114d23890');\n",
              "          const dataTable =\n",
              "            await google.colab.kernel.invokeFunction('convertToInteractive',\n",
              "                                                     [key], {});\n",
              "          if (!dataTable) return;\n",
              "\n",
              "          const docLinkHtml = 'Like what you see? Visit the ' +\n",
              "            '<a target=\"_blank\" href=https://colab.research.google.com/notebooks/data_table.ipynb>data table notebook</a>'\n",
              "            + ' to learn more about interactive tables.';\n",
              "          element.innerHTML = '';\n",
              "          dataTable['output_type'] = 'display_data';\n",
              "          await google.colab.output.renderOutput(dataTable, element);\n",
              "          const docLink = document.createElement('div');\n",
              "          docLink.innerHTML = docLinkHtml;\n",
              "          element.appendChild(docLink);\n",
              "        }\n",
              "      </script>\n",
              "    </div>\n",
              "  </div>\n",
              "  "
            ],
            "text/plain": [
              "         Name       City  State       Phone\n",
              "0  A R Danish  Darbhanga  Bihar  1234567890\n",
              "1  A R Rashid  Madhubani  Bihar  4244567891\n",
              "2   Sonu Khan     Pattna  Bihar  5434567892\n",
              "3     Qamar J       Gaya  Bihar  1234567893\n",
              "4       Kavya  Ghaziabad  Bihar  1234567894"
            ]
          },
          "metadata": {},
          "execution_count": 25
        }
      ]
    },
    {
      "cell_type": "code",
      "source": [
        "my_data.to_excel(\"removedspecialcharindata.xlsx\")"
      ],
      "metadata": {
        "id": "BL3-oAe1koAA"
      },
      "execution_count": 26,
      "outputs": []
    },
    {
      "cell_type": "code",
      "source": [
        ""
      ],
      "metadata": {
        "id": "WraRPBuWlDkx"
      },
      "execution_count": null,
      "outputs": []
    }
  ]
}