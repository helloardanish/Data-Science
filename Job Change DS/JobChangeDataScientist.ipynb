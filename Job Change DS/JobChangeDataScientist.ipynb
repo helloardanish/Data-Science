{
  "nbformat": 4,
  "nbformat_minor": 0,
  "metadata": {
    "colab": {
      "name": "JobChangeDataScientist.ipynb",
      "provenance": [],
      "collapsed_sections": []
    },
    "kernelspec": {
      "name": "python3",
      "display_name": "Python 3"
    }
  },
  "cells": [
    {
      "cell_type": "markdown",
      "metadata": {
        "id": "EQHpTZan8QaQ"
      },
      "source": [
        "## Import libraries"
      ]
    },
    {
      "cell_type": "markdown",
      "metadata": {
        "id": "TduWx3KvAGGR"
      },
      "source": [
        "## Importing Libraries"
      ]
    },
    {
      "cell_type": "code",
      "metadata": {
        "id": "_4VgOxt5AExO"
      },
      "source": [
        "import numpy as np\r\n",
        "import pandas as pd"
      ],
      "execution_count": 1,
      "outputs": []
    },
    {
      "cell_type": "markdown",
      "metadata": {
        "id": "LRJ_v6_xARs6"
      },
      "source": [
        "Let's read the file, here I'm using file from my drive so I've to mount my drive and access the file first."
      ]
    },
    {
      "cell_type": "code",
      "metadata": {
        "colab": {
          "base_uri": "https://localhost:8080/"
        },
        "id": "edARVWVoAP8S",
        "outputId": "17c8294c-84b1-4e4c-dbe8-bd97696430c9"
      },
      "source": [
        "from google.colab import drive\r\n",
        "drive.mount ('/content/drive')"
      ],
      "execution_count": 2,
      "outputs": [
        {
          "output_type": "stream",
          "text": [
            "Mounted at /content/drive\n"
          ],
          "name": "stdout"
        }
      ]
    },
    {
      "cell_type": "markdown",
      "metadata": {
        "id": "PCbnGgEFBuv-"
      },
      "source": [
        "We can access the csv file now."
      ]
    },
    {
      "cell_type": "code",
      "metadata": {
        "id": "nj7TmdTyBkdA"
      },
      "source": [
        "train = pd.read_csv(\"/content/drive/My Drive/Data Science/Job Change DS/aug_train.csv\")\r\n",
        "test = pd.read_csv(\"/content/drive/My Drive/Data Science/Job Change DS/aug_test.csv\")"
      ],
      "execution_count": 5,
      "outputs": []
    },
    {
      "cell_type": "markdown",
      "metadata": {
        "id": "O2nElES7Cpgm"
      },
      "source": [
        "Let's make a copy of this dataset because I don't want to lose the original data"
      ]
    },
    {
      "cell_type": "code",
      "metadata": {
        "id": "5YRH6kFPCE1c"
      },
      "source": [
        "train_copy = train.copy()\r\n",
        "test_copy = test.copy()"
      ],
      "execution_count": 6,
      "outputs": []
    },
    {
      "cell_type": "markdown",
      "metadata": {
        "id": "zQRATkKYC_fn"
      },
      "source": [
        "Let's visualize the data"
      ]
    },
    {
      "cell_type": "code",
      "metadata": {
        "id": "bT5iGc2OC6N1"
      },
      "source": [
        "# importing matplotlib and seaborn\r\n",
        "import matplotlib.pyplot as plt\r\n",
        "import seaborn as sns"
      ],
      "execution_count": 7,
      "outputs": []
    },
    {
      "cell_type": "markdown",
      "metadata": {
        "id": "uHc71gn-DQ20"
      },
      "source": [
        "Let's see which gender is likely to move out of the company."
      ]
    },
    {
      "cell_type": "code",
      "metadata": {
        "colab": {
          "base_uri": "https://localhost:8080/",
          "height": 349
        },
        "id": "Tcw-d2I2DNmy",
        "outputId": "b3d4546c-16be-4b57-c6e0-ebdc74ba11fe"
      },
      "source": [
        "plt.title('Which gender will likely move out of the company')\r\n",
        "sns.countplot(train['gender'])\r\n",
        "plt.show()"
      ],
      "execution_count": 8,
      "outputs": [
        {
          "output_type": "stream",
          "text": [
            "/usr/local/lib/python3.6/dist-packages/seaborn/_decorators.py:43: FutureWarning: Pass the following variable as a keyword arg: x. From version 0.12, the only valid positional argument will be `data`, and passing other arguments without an explicit keyword will result in an error or misinterpretation.\n",
            "  FutureWarning\n"
          ],
          "name": "stderr"
        },
        {
          "output_type": "display_data",
          "data": {
            "image/png": "[encoded data removed]",
            "text/plain": [
              "<Figure size 432x288 with 1 Axes>"
            ]
          },
          "metadata": {
            "tags": [],
            "needs_background": "light"
          }
        }
      ]
    },
    {
      "cell_type": "code",
      "metadata": {
        "colab": {
          "base_uri": "https://localhost:8080/",
          "height": 499
        },
        "id": "wNgzajZzDb-6",
        "outputId": "5ba64b91-7fda-4079-b1f1-026c57c58abe"
      },
      "source": [
        "gender = train[train['target'] == 1]['gender']\r\n",
        "\r\n",
        "gender_temp = gender.value_counts()\r\n",
        "labels = gender_temp.keys()\r\n",
        "bar,ax = plt.subplots(figsize=(8,8))\r\n",
        "plt.pie(x = gender_temp, labels = labels , colors = ['red','green','blue'], \r\n",
        "   autopct=\"%.2f%%\")\r\n",
        "\r\n",
        "plt.title('Gender % who are looking for new job')"
      ],
      "execution_count": 17,
      "outputs": [
        {
          "output_type": "execute_result",
          "data": {
            "text/plain": [
              "Text(0.5, 1.0, 'Gender % who are looking for new job')"
            ]
          },
          "metadata": {
            "tags": []
          },
          "execution_count": 17
        },
        {
          "output_type": "display_data",
          "data": {
            "image/png": "[encoded data removed]",
            "text/plain": [
              "<Figure size 576x576 with 1 Axes>"
            ]
          },
          "metadata": {
            "tags": []
          }
        }
      ]
    },
    {
      "cell_type": "markdown",
      "metadata": {
        "id": "uf2WtSxeF3bi"
      },
      "source": [
        "We can see male percentage is large, mostly men are looking for a job."
      ]
    },
    {
      "cell_type": "markdown",
      "metadata": {
        "id": "NsE8hvzGGQmz"
      },
      "source": [
        "Let's check from which company people are leaving and looking for a job the most"
      ]
    },
    {
      "cell_type": "code",
      "metadata": {
        "colab": {
          "base_uri": "https://localhost:8080/",
          "height": 388
        },
        "id": "i_iPG47HFTEc",
        "outputId": "b89e5bce-92d2-4d63-e3a4-263dbf9622d6"
      },
      "source": [
        "plt.figure(figsize=(10,5))\r\n",
        "sns.countplot(train['company_type'])\r\n",
        "plt.show()"
      ],
      "execution_count": 15,
      "outputs": [
        {
          "output_type": "stream",
          "text": [
            "/usr/local/lib/python3.6/dist-packages/seaborn/_decorators.py:43: FutureWarning: Pass the following variable as a keyword arg: x. From version 0.12, the only valid positional argument will be `data`, and passing other arguments without an explicit keyword will result in an error or misinterpretation.\n",
            "  FutureWarning\n"
          ],
          "name": "stderr"
        },
        {
          "output_type": "display_data",
          "data": {
            "image/png": "[encoded data removed]",
            "text/plain": [
              "<Figure size 720x360 with 1 Axes>"
            ]
          },
          "metadata": {
            "tags": [],
            "needs_background": "light"
          }
        }
      ]
    },
    {
      "cell_type": "code",
      "metadata": {
        "colab": {
          "base_uri": "https://localhost:8080/",
          "height": 499
        },
        "id": "NR0vJrKtGf4E",
        "outputId": "3806fce2-89e3-4284-df8f-1c632e172b16"
      },
      "source": [
        "company = train[train['target'] == 1]['company_type']\r\n",
        "\r\n",
        "company_temp = company.value_counts()\r\n",
        "labels = company_temp.keys()\r\n",
        "bar,ax = plt.subplots(figsize=(8,8))\r\n",
        "plt.pie(x = company_temp, labels = labels , colors = ['red','green','blue'], \r\n",
        "   autopct=\"%.2f%%\",pctdistance=0.7)\r\n",
        "\r\n",
        "plt.title('People percentage leaving the company')"
      ],
      "execution_count": 19,
      "outputs": [
        {
          "output_type": "execute_result",
          "data": {
            "text/plain": [
              "Text(0.5, 1.0, 'People percentage leaving the company')"
            ]
          },
          "metadata": {
            "tags": []
          },
          "execution_count": 19
        },
        {
          "output_type": "display_data",
          "data": {
            "image/png": "[encoded data removed]",
            "text/plain": [
              "<Figure size 576x576 with 1 Axes>"
            ]
          },
          "metadata": {
            "tags": []
          }
        }
      ]
    },
    {
      "cell_type": "markdown",
      "metadata": {
        "id": "OVEBjkNbICre"
      },
      "source": [
        "Let's check relevant experience of the target"
      ]
    },
    {
      "cell_type": "code",
      "metadata": {
        "colab": {
          "base_uri": "https://localhost:8080/",
          "height": 351
        },
        "id": "_US6s4PeHrXM",
        "outputId": "6ac31aae-f2b8-4f0e-f198-77ae76d6d119"
      },
      "source": [
        "sns.countplot(train['relevent_experience'], hue=train['target'])"
      ],
      "execution_count": 20,
      "outputs": [
        {
          "output_type": "stream",
          "text": [
            "/usr/local/lib/python3.6/dist-packages/seaborn/_decorators.py:43: FutureWarning: Pass the following variable as a keyword arg: x. From version 0.12, the only valid positional argument will be `data`, and passing other arguments without an explicit keyword will result in an error or misinterpretation.\n",
            "  FutureWarning\n"
          ],
          "name": "stderr"
        },
        {
          "output_type": "execute_result",
          "data": {
            "text/plain": [
              "<matplotlib.axes._subplots.AxesSubplot at 0x7f30aee28f60>"
            ]
          },
          "metadata": {
            "tags": []
          },
          "execution_count": 20
        },
        {
          "output_type": "display_data",
          "data": {
            "image/png": "[encoded data removed]",
            "text/plain": [
              "<Figure size 432x288 with 1 Axes>"
            ]
          },
          "metadata": {
            "tags": [],
            "needs_background": "light"
          }
        }
      ]
    },
    {
      "cell_type": "markdown",
      "metadata": {
        "id": "hYaY0JVgIsLp"
      },
      "source": [
        "Distribution of categorical cols vs target"
      ]
    },
    {
      "cell_type": "code",
      "metadata": {
        "id": "Ty7dDqlpIaYv"
      },
      "source": [
        "categorical_cols_to_distribute = ['enrolled_university', 'education_level', 'major_discipline', 'experience', \r\n",
        "                                  'company_size', 'company_type', 'last_new_job']"
      ],
      "execution_count": 21,
      "outputs": []
    },
    {
      "cell_type": "code",
      "metadata": {
        "colab": {
          "base_uri": "https://localhost:8080/",
          "height": 1000
        },
        "id": "HFEaRvpUJjjr",
        "outputId": "ff7f67b8-8fd3-436d-fabb-abd1801e3962"
      },
      "source": [
        "for col in train[categorical_cols_to_distribute]:\r\n",
        "    plt.title(f'Distribution of {col}')\r\n",
        "    sns.countplot(train[col], hue=train['target'])\r\n",
        "    plt.show()"
      ],
      "execution_count": 22,
      "outputs": [
        {
          "output_type": "stream",
          "text": [
            "/usr/local/lib/python3.6/dist-packages/seaborn/_decorators.py:43: FutureWarning: Pass the following variable as a keyword arg: x. From version 0.12, the only valid positional argument will be `data`, and passing other arguments without an explicit keyword will result in an error or misinterpretation.\n",
            "  FutureWarning\n"
          ],
          "name": "stderr"
        },
        {
          "output_type": "display_data",
          "data": {
            "image/png": "[encoded data removed]",
            "text/plain": [
              "<Figure size 432x288 with 1 Axes>"
            ]
          },
          "metadata": {
            "tags": [],
            "needs_background": "light"
          }
        },
        {
          "output_type": "stream",
          "text": [
            "/usr/local/lib/python3.6/dist-packages/seaborn/_decorators.py:43: FutureWarning: Pass the following variable as a keyword arg: x. From version 0.12, the only valid positional argument will be `data`, and passing other arguments without an explicit keyword will result in an error or misinterpretation.\n",
            "  FutureWarning\n"
          ],
          "name": "stderr"
        },
        {
          "output_type": "display_data",
          "data": {
            "image/png": "[encoded data removed]",
            "text/plain": [
              "<Figure size 432x288 with 1 Axes>"
            ]
          },
          "metadata": {
            "tags": [],
            "needs_background": "light"
          }
        },
        {
          "output_type": "stream",
          "text": [
            "/usr/local/lib/python3.6/dist-packages/seaborn/_decorators.py:43: FutureWarning: Pass the following variable as a keyword arg: x. From version 0.12, the only valid positional argument will be `data`, and passing other arguments without an explicit keyword will result in an error or misinterpretation.\n",
            "  FutureWarning\n"
          ],
          "name": "stderr"
        },
        {
          "output_type": "display_data",
          "data": {
            "image/png": "[encoded data removed]",
            "text/plain": [
              "<Figure size 432x288 with 1 Axes>"
            ]
          },
          "metadata": {
            "tags": [],
            "needs_background": "light"
          }
        },
        {
          "output_type": "stream",
          "text": [
            "/usr/local/lib/python3.6/dist-packages/seaborn/_decorators.py:43: FutureWarning: Pass the following variable as a keyword arg: x. From version 0.12, the only valid positional argument will be `data`, and passing other arguments without an explicit keyword will result in an error or misinterpretation.\n",
            "  FutureWarning\n"
          ],
          "name": "stderr"
        },
        {
          "output_type": "display_data",
          "data": {
            "image/png": "[encoded data removed]",
            "text/plain": [
              "<Figure size 432x288 with 1 Axes>"
            ]
          },
          "metadata": {
            "tags": [],
            "needs_background": "light"
          }
        },
        {
          "output_type": "stream",
          "text": [
            "/usr/local/lib/python3.6/dist-packages/seaborn/_decorators.py:43: FutureWarning: Pass the following variable as a keyword arg: x. From version 0.12, the only valid positional argument will be `data`, and passing other arguments without an explicit keyword will result in an error or misinterpretation.\n",
            "  FutureWarning\n"
          ],
          "name": "stderr"
        },
        {
          "output_type": "display_data",
          "data": {
            "image/png": "[encoded data removed]",
            "text/plain": [
              "<Figure size 432x288 with 1 Axes>"
            ]
          },
          "metadata": {
            "tags": [],
            "needs_background": "light"
          }
        },
        {
          "output_type": "stream",
          "text": [
            "/usr/local/lib/python3.6/dist-packages/seaborn/_decorators.py:43: FutureWarning: Pass the following variable as a keyword arg: x. From version 0.12, the only valid positional argument will be `data`, and passing other arguments without an explicit keyword will result in an error or misinterpretation.\n",
            "  FutureWarning\n"
          ],
          "name": "stderr"
        },
        {
          "output_type": "display_data",
          "data": {
            "image/png": "[encoded data removed]",
            "text/plain": [
              "<Figure size 432x288 with 1 Axes>"
            ]
          },
          "metadata": {
            "tags": [],
            "needs_background": "light"
          }
        },
        {
          "output_type": "stream",
          "text": [
            "/usr/local/lib/python3.6/dist-packages/seaborn/_decorators.py:43: FutureWarning: Pass the following variable as a keyword arg: x. From version 0.12, the only valid positional argument will be `data`, and passing other arguments without an explicit keyword will result in an error or misinterpretation.\n",
            "  FutureWarning\n"
          ],
          "name": "stderr"
        },
        {
          "output_type": "display_data",
          "data": {
            "image/png": "[encoded data removed]",
            "text/plain": [
              "<Figure size 432x288 with 1 Axes>"
            ]
          },
          "metadata": {
            "tags": [],
            "needs_background": "light"
          }
        }
      ]
    },
    {
      "cell_type": "code",
      "metadata": {
        "id": "bp26tu8bJ7Nr"
      },
      "source": [
        "numeric_cols_to_distribute = ['city_development_index', 'training_hours']"
      ],
      "execution_count": 23,
      "outputs": []
    },
    {
      "cell_type": "code",
      "metadata": {
        "colab": {
          "base_uri": "https://localhost:8080/",
          "height": 663
        },
        "id": "1G6EXzEwKPOw",
        "outputId": "43de75c0-e223-4895-b379-dedbd4f8b97c"
      },
      "source": [
        "for col in train[numeric_cols_to_distribute]:\r\n",
        "    plt.title(f'Distribution of {col}')\r\n",
        "    sns.distplot(train[col])\r\n",
        "    plt.show()"
      ],
      "execution_count": 24,
      "outputs": [
        {
          "output_type": "stream",
          "text": [
            "/usr/local/lib/python3.6/dist-packages/seaborn/distributions.py:2557: FutureWarning: `distplot` is a deprecated function and will be removed in a future version. Please adapt your code to use either `displot` (a figure-level function with similar flexibility) or `histplot` (an axes-level function for histograms).\n",
            "  warnings.warn(msg, FutureWarning)\n"
          ],
          "name": "stderr"
        },
        {
          "output_type": "display_data",
          "data": {
            "image/png": "[encoded data removed]",
            "text/plain": [
              "<Figure size 432x288 with 1 Axes>"
            ]
          },
          "metadata": {
            "tags": [],
            "needs_background": "light"
          }
        },
        {
          "output_type": "stream",
          "text": [
            "/usr/local/lib/python3.6/dist-packages/seaborn/distributions.py:2557: FutureWarning: `distplot` is a deprecated function and will be removed in a future version. Please adapt your code to use either `displot` (a figure-level function with similar flexibility) or `histplot` (an axes-level function for histograms).\n",
            "  warnings.warn(msg, FutureWarning)\n"
          ],
          "name": "stderr"
        },
        {
          "output_type": "display_data",
          "data": {
            "image/png": "[encoded data removed]",
            "text/plain": [
              "<Figure size 432x288 with 1 Axes>"
            ]
          },
          "metadata": {
            "tags": [],
            "needs_background": "light"
          }
        }
      ]
    },
    {
      "cell_type": "markdown",
      "metadata": {
        "id": "84vyKStEKfDD"
      },
      "source": [
        "## Let's do Data Processing"
      ]
    },
    {
      "cell_type": "markdown",
      "metadata": {
        "id": "kt8Nei0NKtqY"
      },
      "source": [
        "first let's drop the unnecessary columns"
      ]
    },
    {
      "cell_type": "code",
      "metadata": {
        "id": "wMrRZz_uKR6k"
      },
      "source": [
        "train.drop(['enrollee_id', 'city'], axis=1, inplace=True)\r\n",
        "test.drop(['enrollee_id', 'city'], axis=1, inplace=True)"
      ],
      "execution_count": 25,
      "outputs": []
    },
    {
      "cell_type": "markdown",
      "metadata": {
        "id": "jVsYRT8qK8kx"
      },
      "source": [
        "Let's fill the missing values with their mode"
      ]
    },
    {
      "cell_type": "code",
      "metadata": {
        "id": "WGRzEtbwK5eB"
      },
      "source": [
        "cols_with_na = ['gender', 'enrolled_university', 'education_level', 'major_discipline', 'experience', \r\n",
        "                'company_size', 'company_type', 'last_new_job']"
      ],
      "execution_count": 26,
      "outputs": []
    },
    {
      "cell_type": "code",
      "metadata": {
        "id": "mD0FUFEZLMBO"
      },
      "source": [
        "for col in cols_with_na:\r\n",
        "    train[col].fillna(train[col].mode()[0],inplace=True)"
      ],
      "execution_count": 27,
      "outputs": []
    },
    {
      "cell_type": "code",
      "metadata": {
        "id": "4gatgmd4LS1j"
      },
      "source": [
        "for col in cols_with_na:\r\n",
        "    test[col].fillna(test[col].mode()[0],inplace=True)"
      ],
      "execution_count": 28,
      "outputs": []
    },
    {
      "cell_type": "markdown",
      "metadata": {
        "id": "ZGAX-r5vLauA"
      },
      "source": [
        "Now let's change categorical features to numeric features so we can use dictionary mapping"
      ]
    },
    {
      "cell_type": "code",
      "metadata": {
        "colab": {
          "base_uri": "https://localhost:8080/",
          "height": 419
        },
        "id": "hElTxPpnLXlO",
        "outputId": "2343c899-be57-4e02-cbc1-e0971947d266"
      },
      "source": [
        "train.select_dtypes(object)"
      ],
      "execution_count": 29,
      "outputs": [
        {
          "output_type": "execute_result",
          "data": {
            "text/html": [
              "<div>\n",
              "<style scoped>\n",
              "    .dataframe tbody tr th:only-of-type {\n",
              "        vertical-align: middle;\n",
              "    }\n",
              "\n",
              "    .dataframe tbody tr th {\n",
              "        vertical-align: top;\n",
              "    }\n",
              "\n",
              "    .dataframe thead th {\n",
              "        text-align: right;\n",
              "    }\n",
              "</style>\n",
              "<table border=\"1\" class=\"dataframe\">\n",
              "  <thead>\n",
              "    <tr style=\"text-align: right;\">\n",
              "      <th></th>\n",
              "      <th>gender</th>\n",
              "      <th>relevent_experience</th>\n",
              "      <th>enrolled_university</th>\n",
              "      <th>education_level</th>\n",
              "      <th>major_discipline</th>\n",
              "      <th>experience</th>\n",
              "      <th>company_size</th>\n",
              "      <th>company_type</th>\n",
              "      <th>last_new_job</th>\n",
              "    </tr>\n",
              "  </thead>\n",
              "  <tbody>\n",
              "    <tr>\n",
              "      <th>0</th>\n",
              "      <td>Male</td>\n",
              "      <td>Has relevent experience</td>\n",
              "      <td>no_enrollment</td>\n",
              "      <td>Graduate</td>\n",
              "      <td>STEM</td>\n",
              "      <td>&gt;20</td>\n",
              "      <td>50-99</td>\n",
              "      <td>Pvt Ltd</td>\n",
              "      <td>1</td>\n",
              "    </tr>\n",
              "    <tr>\n",
              "      <th>1</th>\n",
              "      <td>Male</td>\n",
              "      <td>No relevent experience</td>\n",
              "      <td>no_enrollment</td>\n",
              "      <td>Graduate</td>\n",
              "      <td>STEM</td>\n",
              "      <td>15</td>\n",
              "      <td>50-99</td>\n",
              "      <td>Pvt Ltd</td>\n",
              "      <td>&gt;4</td>\n",
              "    </tr>\n",
              "    <tr>\n",
              "      <th>2</th>\n",
              "      <td>Male</td>\n",
              "      <td>No relevent experience</td>\n",
              "      <td>Full time course</td>\n",
              "      <td>Graduate</td>\n",
              "      <td>STEM</td>\n",
              "      <td>5</td>\n",
              "      <td>50-99</td>\n",
              "      <td>Pvt Ltd</td>\n",
              "      <td>never</td>\n",
              "    </tr>\n",
              "    <tr>\n",
              "      <th>3</th>\n",
              "      <td>Male</td>\n",
              "      <td>No relevent experience</td>\n",
              "      <td>no_enrollment</td>\n",
              "      <td>Graduate</td>\n",
              "      <td>Business Degree</td>\n",
              "      <td>&lt;1</td>\n",
              "      <td>50-99</td>\n",
              "      <td>Pvt Ltd</td>\n",
              "      <td>never</td>\n",
              "    </tr>\n",
              "    <tr>\n",
              "      <th>4</th>\n",
              "      <td>Male</td>\n",
              "      <td>Has relevent experience</td>\n",
              "      <td>no_enrollment</td>\n",
              "      <td>Masters</td>\n",
              "      <td>STEM</td>\n",
              "      <td>&gt;20</td>\n",
              "      <td>50-99</td>\n",
              "      <td>Funded Startup</td>\n",
              "      <td>4</td>\n",
              "    </tr>\n",
              "    <tr>\n",
              "      <th>...</th>\n",
              "      <td>...</td>\n",
              "      <td>...</td>\n",
              "      <td>...</td>\n",
              "      <td>...</td>\n",
              "      <td>...</td>\n",
              "      <td>...</td>\n",
              "      <td>...</td>\n",
              "      <td>...</td>\n",
              "      <td>...</td>\n",
              "    </tr>\n",
              "    <tr>\n",
              "      <th>19153</th>\n",
              "      <td>Male</td>\n",
              "      <td>No relevent experience</td>\n",
              "      <td>no_enrollment</td>\n",
              "      <td>Graduate</td>\n",
              "      <td>Humanities</td>\n",
              "      <td>14</td>\n",
              "      <td>50-99</td>\n",
              "      <td>Pvt Ltd</td>\n",
              "      <td>1</td>\n",
              "    </tr>\n",
              "    <tr>\n",
              "      <th>19154</th>\n",
              "      <td>Male</td>\n",
              "      <td>Has relevent experience</td>\n",
              "      <td>no_enrollment</td>\n",
              "      <td>Graduate</td>\n",
              "      <td>STEM</td>\n",
              "      <td>14</td>\n",
              "      <td>50-99</td>\n",
              "      <td>Pvt Ltd</td>\n",
              "      <td>4</td>\n",
              "    </tr>\n",
              "    <tr>\n",
              "      <th>19155</th>\n",
              "      <td>Male</td>\n",
              "      <td>Has relevent experience</td>\n",
              "      <td>no_enrollment</td>\n",
              "      <td>Graduate</td>\n",
              "      <td>STEM</td>\n",
              "      <td>&gt;20</td>\n",
              "      <td>50-99</td>\n",
              "      <td>Pvt Ltd</td>\n",
              "      <td>4</td>\n",
              "    </tr>\n",
              "    <tr>\n",
              "      <th>19156</th>\n",
              "      <td>Male</td>\n",
              "      <td>Has relevent experience</td>\n",
              "      <td>no_enrollment</td>\n",
              "      <td>High School</td>\n",
              "      <td>STEM</td>\n",
              "      <td>&lt;1</td>\n",
              "      <td>500-999</td>\n",
              "      <td>Pvt Ltd</td>\n",
              "      <td>2</td>\n",
              "    </tr>\n",
              "    <tr>\n",
              "      <th>19157</th>\n",
              "      <td>Male</td>\n",
              "      <td>No relevent experience</td>\n",
              "      <td>no_enrollment</td>\n",
              "      <td>Primary School</td>\n",
              "      <td>STEM</td>\n",
              "      <td>2</td>\n",
              "      <td>50-99</td>\n",
              "      <td>Pvt Ltd</td>\n",
              "      <td>1</td>\n",
              "    </tr>\n",
              "  </tbody>\n",
              "</table>\n",
              "<p>19158 rows × 9 columns</p>\n",
              "</div>"
            ],
            "text/plain": [
              "      gender      relevent_experience  ...    company_type last_new_job\n",
              "0       Male  Has relevent experience  ...         Pvt Ltd            1\n",
              "1       Male   No relevent experience  ...         Pvt Ltd           >4\n",
              "2       Male   No relevent experience  ...         Pvt Ltd        never\n",
              "3       Male   No relevent experience  ...         Pvt Ltd        never\n",
              "4       Male  Has relevent experience  ...  Funded Startup            4\n",
              "...      ...                      ...  ...             ...          ...\n",
              "19153   Male   No relevent experience  ...         Pvt Ltd            1\n",
              "19154   Male  Has relevent experience  ...         Pvt Ltd            4\n",
              "19155   Male  Has relevent experience  ...         Pvt Ltd            4\n",
              "19156   Male  Has relevent experience  ...         Pvt Ltd            2\n",
              "19157   Male   No relevent experience  ...         Pvt Ltd            1\n",
              "\n",
              "[19158 rows x 9 columns]"
            ]
          },
          "metadata": {
            "tags": []
          },
          "execution_count": 29
        }
      ]
    },
    {
      "cell_type": "code",
      "metadata": {
        "colab": {
          "base_uri": "https://localhost:8080/"
        },
        "id": "vpVD4uBqLtrz",
        "outputId": "648a875f-66e0-4804-a2e1-c2d791eab1be"
      },
      "source": [
        "train['gender'].unique()"
      ],
      "execution_count": 30,
      "outputs": [
        {
          "output_type": "execute_result",
          "data": {
            "text/plain": [
              "array(['Male', 'Female', 'Other'], dtype=object)"
            ]
          },
          "metadata": {
            "tags": []
          },
          "execution_count": 30
        }
      ]
    },
    {
      "cell_type": "code",
      "metadata": {
        "id": "VTplLjoiLzQT"
      },
      "source": [
        "gender_mapping = {'Male':0, 'Female':1, 'Other':2}\r\n",
        "relevent_experience_mapping = {'No relevent experience':0, 'Has relevent experience':1}\r\n",
        "enrolled_university_mapping = {'no_enrollment':0, 'Full time course':1, 'Part time course':2}\r\n",
        "education_level_mapping = {'Graduate':0, 'Masters':1, 'High School':2, 'Phd':3, 'Primary School':4}\r\n",
        "major_discipline_mapping = {'STEM':0, 'Business Degree':1, 'Arts':2, 'Humanities':3, 'No Major':4, 'Other':5}\r\n",
        "experience_mapping = {'15':15, '5':5, '<1':0, '>20':21, '11':11, '13':13, '7':7, '17':17, '2':2, '16':16,\r\n",
        "                      '1':1, '4':4,'10':10, '14':14, '18':18, '19':19, '12':12, '3':3, '6':6, '9':9,\r\n",
        "                      '8':8, '20':20}\r\n",
        "company_size_mapping = {'50-99':0, '<10':1, '10000+':2, '5000-9999':3, '1000-4999':4, '10/49':5, \r\n",
        "                        '100-500':6, '500-999':7}\r\n",
        "company_type_mapping = {'Pvt Ltd':0, 'Funded Startup':1, 'Early Stage Startup':2, 'Other':3, \r\n",
        "                        'Public Sector':4, 'NGO':5}\r\n",
        "last_new_job_mapping = {'>4':5, 'never':0, '4':4, '1':1, '3':3, '2':2}"
      ],
      "execution_count": 31,
      "outputs": []
    },
    {
      "cell_type": "code",
      "metadata": {
        "id": "4JGslfbCMXMI"
      },
      "source": [
        "train['gender'] = train['gender'].map(gender_mapping)\r\n",
        "train['relevent_experience'] = train['relevent_experience'].map(relevent_experience_mapping)\r\n",
        "train['enrolled_university'] = train['enrolled_university'].map(enrolled_university_mapping)\r\n",
        "train['education_level'] = train['education_level'].map(education_level_mapping)\r\n",
        "train['major_discipline'] = train['major_discipline'].map(major_discipline_mapping)\r\n",
        "train['experience'] = train['experience'].map(experience_mapping)\r\n",
        "train['company_size'] = train['company_size'].map(company_size_mapping)\r\n",
        "train['company_type'] = train['company_type'].map(company_type_mapping)\r\n",
        "train['last_new_job'] = train['last_new_job'].map(last_new_job_mapping)"
      ],
      "execution_count": 32,
      "outputs": []
    },
    {
      "cell_type": "code",
      "metadata": {
        "id": "gBXwSk9XMcFb"
      },
      "source": [
        "test['gender'] = test['gender'].map(gender_mapping)\r\n",
        "test['relevent_experience'] = test['relevent_experience'].map(relevent_experience_mapping)\r\n",
        "test['enrolled_university'] = test['enrolled_university'].map(enrolled_university_mapping)\r\n",
        "test['education_level'] = test['education_level'].map(education_level_mapping)\r\n",
        "test['major_discipline'] = test['major_discipline'].map(major_discipline_mapping)\r\n",
        "test['experience'] = test['experience'].map(experience_mapping)\r\n",
        "test['company_size'] = test['company_size'].map(company_size_mapping)\r\n",
        "test['company_type'] = test['company_type'].map(company_type_mapping)\r\n",
        "test['last_new_job'] = test['last_new_job'].map(last_new_job_mapping)"
      ],
      "execution_count": 33,
      "outputs": []
    },
    {
      "cell_type": "markdown",
      "metadata": {
        "id": "fKl458feMheU"
      },
      "source": [
        "Let's define the independent and dependent variables"
      ]
    },
    {
      "cell_type": "code",
      "metadata": {
        "id": "hPCgtKjTMeyq"
      },
      "source": [
        "x_train = train.drop('target', axis=1)\r\n",
        "y_train = train['target']\r\n",
        "\r\n",
        "x_test = test"
      ],
      "execution_count": 45,
      "outputs": []
    },
    {
      "cell_type": "markdown",
      "metadata": {
        "id": "2IdSUa7MNGwc"
      },
      "source": [
        "Let's check for imbalance in the data and balance it with smote"
      ]
    },
    {
      "cell_type": "code",
      "metadata": {
        "colab": {
          "base_uri": "https://localhost:8080/"
        },
        "id": "vf3kOr4LMqwL",
        "outputId": "824bd6bf-2954-481a-af14-ff49f09a7684"
      },
      "source": [
        "from imblearn.over_sampling import SMOTE"
      ],
      "execution_count": 35,
      "outputs": [
        {
          "output_type": "stream",
          "text": [
            "/usr/local/lib/python3.6/dist-packages/sklearn/externals/six.py:31: FutureWarning: The module is deprecated in version 0.21 and will be removed in version 0.23 since we've dropped support for Python 2.7. Please rely on the official version of six (https://pypi.org/project/six/).\n",
            "  \"(https://pypi.org/project/six/).\", FutureWarning)\n",
            "/usr/local/lib/python3.6/dist-packages/sklearn/utils/deprecation.py:144: FutureWarning: The sklearn.neighbors.base module is  deprecated in version 0.22 and will be removed in version 0.24. The corresponding classes / functions should instead be imported from sklearn.neighbors. Anything that cannot be imported from sklearn.neighbors is now part of the private API.\n",
            "  warnings.warn(message, FutureWarning)\n"
          ],
          "name": "stderr"
        }
      ]
    },
    {
      "cell_type": "code",
      "metadata": {
        "colab": {
          "base_uri": "https://localhost:8080/",
          "height": 350
        },
        "id": "Gu_G5kXTNLb4",
        "outputId": "0f4fdb20-52fb-417a-ce3f-ca12d5af25b6"
      },
      "source": [
        "sns.countplot(y_train)"
      ],
      "execution_count": 36,
      "outputs": [
        {
          "output_type": "stream",
          "text": [
            "/usr/local/lib/python3.6/dist-packages/seaborn/_decorators.py:43: FutureWarning: Pass the following variable as a keyword arg: x. From version 0.12, the only valid positional argument will be `data`, and passing other arguments without an explicit keyword will result in an error or misinterpretation.\n",
            "  FutureWarning\n"
          ],
          "name": "stderr"
        },
        {
          "output_type": "execute_result",
          "data": {
            "text/plain": [
              "<matplotlib.axes._subplots.AxesSubplot at 0x7f30a0f954a8>"
            ]
          },
          "metadata": {
            "tags": []
          },
          "execution_count": 36
        },
        {
          "output_type": "display_data",
          "data": {
            "image/png": "[encoded data removed]",
            "text/plain": [
              "<Figure size 432x288 with 1 Axes>"
            ]
          },
          "metadata": {
            "tags": [],
            "needs_background": "light"
          }
        }
      ]
    },
    {
      "cell_type": "markdown",
      "metadata": {
        "id": "CR-UI7t2NYsa"
      },
      "source": [
        "Clearly 0.0 is greater then 1.0 - let's fix this by balancing them"
      ]
    },
    {
      "cell_type": "code",
      "metadata": {
        "colab": {
          "base_uri": "https://localhost:8080/"
        },
        "id": "1knLJihONTKH",
        "outputId": "a03a20ce-dd2f-474b-ba22-1bd1ffdb6d13"
      },
      "source": [
        "smote = SMOTE(random_state=56)\r\n",
        "\r\n",
        "x_train, y_train = smote.fit_resample(x_train, y_train)"
      ],
      "execution_count": 37,
      "outputs": [
        {
          "output_type": "stream",
          "text": [
            "/usr/local/lib/python3.6/dist-packages/sklearn/utils/deprecation.py:87: FutureWarning: Function safe_indexing is deprecated; safe_indexing is deprecated in version 0.22 and will be removed in version 0.24.\n",
            "  warnings.warn(msg, category=FutureWarning)\n"
          ],
          "name": "stderr"
        }
      ]
    },
    {
      "cell_type": "code",
      "metadata": {
        "colab": {
          "base_uri": "https://localhost:8080/",
          "height": 336
        },
        "id": "JEtGQJI6NepR",
        "outputId": "20f844a0-e42d-4dbf-f8d5-f7bdbaf73c09"
      },
      "source": [
        "sns.countplot(y_train)"
      ],
      "execution_count": 38,
      "outputs": [
        {
          "output_type": "stream",
          "text": [
            "/usr/local/lib/python3.6/dist-packages/seaborn/_decorators.py:43: FutureWarning: Pass the following variable as a keyword arg: x. From version 0.12, the only valid positional argument will be `data`, and passing other arguments without an explicit keyword will result in an error or misinterpretation.\n",
            "  FutureWarning\n"
          ],
          "name": "stderr"
        },
        {
          "output_type": "execute_result",
          "data": {
            "text/plain": [
              "<matplotlib.axes._subplots.AxesSubplot at 0x7f30a0d68b00>"
            ]
          },
          "metadata": {
            "tags": []
          },
          "execution_count": 38
        },
        {
          "output_type": "display_data",
          "data": {
            "image/png": "[encoded data removed]",
            "text/plain": [
              "<Figure size 432x288 with 1 Axes>"
            ]
          },
          "metadata": {
            "tags": [],
            "needs_background": "light"
          }
        }
      ]
    },
    {
      "cell_type": "markdown",
      "metadata": {
        "id": "VQ5Gl7hhNljn"
      },
      "source": [
        "Now the numbers are equally balanced"
      ]
    },
    {
      "cell_type": "markdown",
      "metadata": {
        "id": "bOXOV0YCNriz"
      },
      "source": [
        "## Model Building and training"
      ]
    },
    {
      "cell_type": "code",
      "metadata": {
        "id": "fIzzFdJONhW6"
      },
      "source": [
        "from xgboost import XGBClassifier"
      ],
      "execution_count": 39,
      "outputs": []
    },
    {
      "cell_type": "code",
      "metadata": {
        "colab": {
          "base_uri": "https://localhost:8080/"
        },
        "id": "tUvHy3ulNumY",
        "outputId": "10bc6aeb-e652-419a-d183-c3ab200038d4"
      },
      "source": [
        "model = XGBClassifier()\r\n",
        "model.fit(x_train, y_train)"
      ],
      "execution_count": 40,
      "outputs": [
        {
          "output_type": "execute_result",
          "data": {
            "text/plain": [
              "XGBClassifier(base_score=0.5, booster='gbtree', colsample_bylevel=1,\n",
              "              colsample_bynode=1, colsample_bytree=1, gamma=0,\n",
              "              learning_rate=0.1, max_delta_step=0, max_depth=3,\n",
              "              min_child_weight=1, missing=None, n_estimators=100, n_jobs=1,\n",
              "              nthread=None, objective='binary:logistic', random_state=0,\n",
              "              reg_alpha=0, reg_lambda=1, scale_pos_weight=1, seed=None,\n",
              "              silent=None, subsample=1, verbosity=1)"
            ]
          },
          "metadata": {
            "tags": []
          },
          "execution_count": 40
        }
      ]
    },
    {
      "cell_type": "markdown",
      "metadata": {
        "id": "Q5kWkSS_N0F1"
      },
      "source": [
        "## Accuracy"
      ]
    },
    {
      "cell_type": "code",
      "metadata": {
        "colab": {
          "base_uri": "https://localhost:8080/"
        },
        "id": "nfB8W2u2N3Db",
        "outputId": "1154a5d8-b539-4f66-c999-14f624d282b1"
      },
      "source": [
        "model.score(x_train, y_train)"
      ],
      "execution_count": 43,
      "outputs": [
        {
          "output_type": "execute_result",
          "data": {
            "text/plain": [
              "0.8323134691606981"
            ]
          },
          "metadata": {
            "tags": []
          },
          "execution_count": 43
        }
      ]
    },
    {
      "cell_type": "markdown",
      "metadata": {
        "id": "TvwJefVeO2Xy"
      },
      "source": [
        "## Happy Coding\r\n",
        "# **A R**"
      ]
    }
  ]
}